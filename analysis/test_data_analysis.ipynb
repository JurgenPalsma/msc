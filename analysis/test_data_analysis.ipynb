{
 "cells": [
  {
   "cell_type": "markdown",
   "metadata": {},
   "source": [
    "#                     Analysing the algorithms' performances on the test data\n",
    "\n",
    "After tuning the parameters, the algorithms are run on 9 months of 10 minute data from 4 currency pairs. \n",
    "The results are shown and analyzed below:"
   ]
  },
  {
   "cell_type": "code",
   "execution_count": 1,
   "metadata": {},
   "outputs": [],
   "source": [
    "#Libraries and helper functions\n",
    "import pickle\n",
    "import sys\n",
    "import pandas as pd\n",
    "%matplotlib inline\n",
    "import matplotlib.pyplot as plt\n",
    "import seaborn as sns\n",
    "import numpy as np\n",
    "from toolz import get_config, get_all_config_results, get_monthly_ga_results\n",
    "\n",
    "currency_pairs = ['EUR_GBP', 'GBP_CHF', 'GBP_USD', 'EUR_USD']\n",
    "cfg = get_config('../config/testing_config.json')"
   ]
  },
  {
   "cell_type": "markdown",
   "metadata": {},
   "source": [
    "Gathering the data:"
   ]
  },
  {
   "cell_type": "code",
   "execution_count": 2,
   "metadata": {},
   "outputs": [],
   "source": [
    "# GA\n",
    "ga = get_monthly_ga_results(cfg)\n",
    "ga_mean_performance = pd.pivot_table(ga, values=['value', 'mdd', 'no_of_transactions', 'realised_profit', 'ret', 'wealth'], columns=['config name'], aggfunc=np.mean)\n",
    "\n",
    "# CSFLA\n",
    "csfla = get_all_config_results(cfg, '../config/algos/csfla.json')\n",
    "csfla_mean_performance = pd.pivot_table(csfla, values=['value', 'mdd', 'no_of_transactions', 'realised_profit', 'ret', 'wealth'], columns=['config name'], aggfunc=np.mean)\n",
    "\n",
    "#PSO\n",
    "pso = get_all_config_results(cfg, '../config/algos/pso.json')\n",
    "pso_mean_performance = pd.pivot_table(pso, values=['value', 'mdd', 'no_of_transactions', 'realised_profit', 'ret', 'wealth'], columns=['config name'], aggfunc=np.mean)"
   ]
  },
  {
   "cell_type": "markdown",
   "metadata": {},
   "source": [
    "# Fitness value per currency per month"
   ]
  },
  {
   "cell_type": "code",
   "execution_count": 8,
   "metadata": {},
   "outputs": [],
   "source": [
    "currs = pd.DataFrame()\n",
    "currs = pd.concat(ga.loc[ga['currency'] == curr][['config name', 'month', 'value', 'currency']] for curr in ga['currency'].unique())\n",
    "currs = currs.append(pd.concat(pso.loc[pso['currency'] == curr][['config name', 'month', 'value', 'currency']] for curr in pso['currency'].unique()))\n",
    "currs = currs.append(pd.concat(csfla.loc[csfla['currency'] == curr][['config name', 'month', 'value', 'currency']] for curr in csfla['currency'].unique()))"
   ]
  },
  {
   "cell_type": "code",
   "execution_count": 9,
   "metadata": {},
   "outputs": [
    {
     "data": {
      "text/html": [
       "<div>\n",
       "<style scoped>\n",
       "    .dataframe tbody tr th:only-of-type {\n",
       "        vertical-align: middle;\n",
       "    }\n",
       "\n",
       "    .dataframe tbody tr th {\n",
       "        vertical-align: top;\n",
       "    }\n",
       "\n",
       "    .dataframe thead tr th {\n",
       "        text-align: left;\n",
       "    }\n",
       "\n",
       "    .dataframe thead tr:last-of-type th {\n",
       "        text-align: right;\n",
       "    }\n",
       "</style>\n",
       "<table border=\"1\" class=\"dataframe\">\n",
       "  <thead>\n",
       "    <tr>\n",
       "      <th></th>\n",
       "      <th></th>\n",
       "      <th colspan=\"3\" halign=\"left\">value</th>\n",
       "    </tr>\n",
       "    <tr>\n",
       "      <th></th>\n",
       "      <th>config name</th>\n",
       "      <th>csfla</th>\n",
       "      <th>ga</th>\n",
       "      <th>pso</th>\n",
       "    </tr>\n",
       "    <tr>\n",
       "      <th>currency</th>\n",
       "      <th>month</th>\n",
       "      <th></th>\n",
       "      <th></th>\n",
       "      <th></th>\n",
       "    </tr>\n",
       "  </thead>\n",
       "  <tbody>\n",
       "    <tr>\n",
       "      <th rowspan=\"9\" valign=\"top\">EUR_GBP</th>\n",
       "      <th>201309</th>\n",
       "      <td>0.000139</td>\n",
       "      <td>-0.002245</td>\n",
       "      <td>0.000080</td>\n",
       "    </tr>\n",
       "    <tr>\n",
       "      <th>201310</th>\n",
       "      <td>0.000509</td>\n",
       "      <td>-0.000994</td>\n",
       "      <td>0.000513</td>\n",
       "    </tr>\n",
       "    <tr>\n",
       "      <th>201311</th>\n",
       "      <td>-0.000119</td>\n",
       "      <td>-0.000172</td>\n",
       "      <td>-0.000058</td>\n",
       "    </tr>\n",
       "    <tr>\n",
       "      <th>201312</th>\n",
       "      <td>0.000050</td>\n",
       "      <td>-0.001162</td>\n",
       "      <td>-0.000022</td>\n",
       "    </tr>\n",
       "    <tr>\n",
       "      <th>201401</th>\n",
       "      <td>-0.001615</td>\n",
       "      <td>-0.000134</td>\n",
       "      <td>-0.000639</td>\n",
       "    </tr>\n",
       "    <tr>\n",
       "      <th>201402</th>\n",
       "      <td>-0.000595</td>\n",
       "      <td>-0.000131</td>\n",
       "      <td>0.000179</td>\n",
       "    </tr>\n",
       "    <tr>\n",
       "      <th>201403</th>\n",
       "      <td>0.000126</td>\n",
       "      <td>-0.001268</td>\n",
       "      <td>0.000160</td>\n",
       "    </tr>\n",
       "    <tr>\n",
       "      <th>201404</th>\n",
       "      <td>0.000088</td>\n",
       "      <td>-0.000198</td>\n",
       "      <td>0.000030</td>\n",
       "    </tr>\n",
       "    <tr>\n",
       "      <th>201405</th>\n",
       "      <td>-0.002282</td>\n",
       "      <td>-0.000000</td>\n",
       "      <td>-0.001900</td>\n",
       "    </tr>\n",
       "    <tr>\n",
       "      <th rowspan=\"9\" valign=\"top\">EUR_USD</th>\n",
       "      <th>201309</th>\n",
       "      <td>0.000152</td>\n",
       "      <td>0.000005</td>\n",
       "      <td>0.000504</td>\n",
       "    </tr>\n",
       "    <tr>\n",
       "      <th>201310</th>\n",
       "      <td>0.000293</td>\n",
       "      <td>-0.028596</td>\n",
       "      <td>0.001161</td>\n",
       "    </tr>\n",
       "    <tr>\n",
       "      <th>201311</th>\n",
       "      <td>-0.000134</td>\n",
       "      <td>0.000093</td>\n",
       "      <td>-0.000126</td>\n",
       "    </tr>\n",
       "    <tr>\n",
       "      <th>201312</th>\n",
       "      <td>-0.000545</td>\n",
       "      <td>0.000409</td>\n",
       "      <td>-0.000519</td>\n",
       "    </tr>\n",
       "    <tr>\n",
       "      <th>201401</th>\n",
       "      <td>-0.000397</td>\n",
       "      <td>-0.000560</td>\n",
       "      <td>-0.000572</td>\n",
       "    </tr>\n",
       "    <tr>\n",
       "      <th>201402</th>\n",
       "      <td>0.000449</td>\n",
       "      <td>0.000269</td>\n",
       "      <td>0.000612</td>\n",
       "    </tr>\n",
       "    <tr>\n",
       "      <th>201403</th>\n",
       "      <td>0.000376</td>\n",
       "      <td>-0.000165</td>\n",
       "      <td>0.000008</td>\n",
       "    </tr>\n",
       "    <tr>\n",
       "      <th>201404</th>\n",
       "      <td>0.000446</td>\n",
       "      <td>0.000847</td>\n",
       "      <td>0.002097</td>\n",
       "    </tr>\n",
       "    <tr>\n",
       "      <th>201405</th>\n",
       "      <td>-0.002886</td>\n",
       "      <td>-0.000148</td>\n",
       "      <td>-0.003921</td>\n",
       "    </tr>\n",
       "    <tr>\n",
       "      <th rowspan=\"9\" valign=\"top\">GBP_CHF</th>\n",
       "      <th>201309</th>\n",
       "      <td>0.000337</td>\n",
       "      <td>0.000019</td>\n",
       "      <td>0.000356</td>\n",
       "    </tr>\n",
       "    <tr>\n",
       "      <th>201310</th>\n",
       "      <td>-0.000182</td>\n",
       "      <td>0.003995</td>\n",
       "      <td>-0.000051</td>\n",
       "    </tr>\n",
       "    <tr>\n",
       "      <th>201311</th>\n",
       "      <td>0.000208</td>\n",
       "      <td>0.000185</td>\n",
       "      <td>0.000069</td>\n",
       "    </tr>\n",
       "    <tr>\n",
       "      <th>201312</th>\n",
       "      <td>-0.000417</td>\n",
       "      <td>0.000408</td>\n",
       "      <td>-0.000577</td>\n",
       "    </tr>\n",
       "    <tr>\n",
       "      <th>201401</th>\n",
       "      <td>0.000066</td>\n",
       "      <td>-0.001057</td>\n",
       "      <td>-0.000001</td>\n",
       "    </tr>\n",
       "    <tr>\n",
       "      <th>201402</th>\n",
       "      <td>-0.000425</td>\n",
       "      <td>0.000076</td>\n",
       "      <td>-0.000402</td>\n",
       "    </tr>\n",
       "    <tr>\n",
       "      <th>201403</th>\n",
       "      <td>-0.000177</td>\n",
       "      <td>0.000222</td>\n",
       "      <td>-0.000413</td>\n",
       "    </tr>\n",
       "    <tr>\n",
       "      <th>201404</th>\n",
       "      <td>0.000336</td>\n",
       "      <td>0.001153</td>\n",
       "      <td>0.000631</td>\n",
       "    </tr>\n",
       "    <tr>\n",
       "      <th>201405</th>\n",
       "      <td>0.000026</td>\n",
       "      <td>-0.003915</td>\n",
       "      <td>0.000058</td>\n",
       "    </tr>\n",
       "    <tr>\n",
       "      <th rowspan=\"9\" valign=\"top\">GBP_USD</th>\n",
       "      <th>201309</th>\n",
       "      <td>0.006447</td>\n",
       "      <td>0.002146</td>\n",
       "      <td>0.007464</td>\n",
       "    </tr>\n",
       "    <tr>\n",
       "      <th>201310</th>\n",
       "      <td>-0.000335</td>\n",
       "      <td>-0.001716</td>\n",
       "      <td>-0.000218</td>\n",
       "    </tr>\n",
       "    <tr>\n",
       "      <th>201311</th>\n",
       "      <td>0.000324</td>\n",
       "      <td>0.001762</td>\n",
       "      <td>-0.000180</td>\n",
       "    </tr>\n",
       "    <tr>\n",
       "      <th>201312</th>\n",
       "      <td>0.000028</td>\n",
       "      <td>-0.000108</td>\n",
       "      <td>0.000060</td>\n",
       "    </tr>\n",
       "    <tr>\n",
       "      <th>201401</th>\n",
       "      <td>-0.000733</td>\n",
       "      <td>-0.006753</td>\n",
       "      <td>-0.000941</td>\n",
       "    </tr>\n",
       "    <tr>\n",
       "      <th>201402</th>\n",
       "      <td>-0.002219</td>\n",
       "      <td>0.000038</td>\n",
       "      <td>-0.002025</td>\n",
       "    </tr>\n",
       "    <tr>\n",
       "      <th>201403</th>\n",
       "      <td>-0.000389</td>\n",
       "      <td>0.002211</td>\n",
       "      <td>0.000163</td>\n",
       "    </tr>\n",
       "    <tr>\n",
       "      <th>201404</th>\n",
       "      <td>0.001859</td>\n",
       "      <td>0.000772</td>\n",
       "      <td>0.002086</td>\n",
       "    </tr>\n",
       "    <tr>\n",
       "      <th>201405</th>\n",
       "      <td>0.000050</td>\n",
       "      <td>-0.002153</td>\n",
       "      <td>0.000318</td>\n",
       "    </tr>\n",
       "  </tbody>\n",
       "</table>\n",
       "</div>"
      ],
      "text/plain": [
       "                    value                    \n",
       "config name         csfla        ga       pso\n",
       "currency month                               \n",
       "EUR_GBP  201309  0.000139 -0.002245  0.000080\n",
       "         201310  0.000509 -0.000994  0.000513\n",
       "         201311 -0.000119 -0.000172 -0.000058\n",
       "         201312  0.000050 -0.001162 -0.000022\n",
       "         201401 -0.001615 -0.000134 -0.000639\n",
       "         201402 -0.000595 -0.000131  0.000179\n",
       "         201403  0.000126 -0.001268  0.000160\n",
       "         201404  0.000088 -0.000198  0.000030\n",
       "         201405 -0.002282 -0.000000 -0.001900\n",
       "EUR_USD  201309  0.000152  0.000005  0.000504\n",
       "         201310  0.000293 -0.028596  0.001161\n",
       "         201311 -0.000134  0.000093 -0.000126\n",
       "         201312 -0.000545  0.000409 -0.000519\n",
       "         201401 -0.000397 -0.000560 -0.000572\n",
       "         201402  0.000449  0.000269  0.000612\n",
       "         201403  0.000376 -0.000165  0.000008\n",
       "         201404  0.000446  0.000847  0.002097\n",
       "         201405 -0.002886 -0.000148 -0.003921\n",
       "GBP_CHF  201309  0.000337  0.000019  0.000356\n",
       "         201310 -0.000182  0.003995 -0.000051\n",
       "         201311  0.000208  0.000185  0.000069\n",
       "         201312 -0.000417  0.000408 -0.000577\n",
       "         201401  0.000066 -0.001057 -0.000001\n",
       "         201402 -0.000425  0.000076 -0.000402\n",
       "         201403 -0.000177  0.000222 -0.000413\n",
       "         201404  0.000336  0.001153  0.000631\n",
       "         201405  0.000026 -0.003915  0.000058\n",
       "GBP_USD  201309  0.006447  0.002146  0.007464\n",
       "         201310 -0.000335 -0.001716 -0.000218\n",
       "         201311  0.000324  0.001762 -0.000180\n",
       "         201312  0.000028 -0.000108  0.000060\n",
       "         201401 -0.000733 -0.006753 -0.000941\n",
       "         201402 -0.002219  0.000038 -0.002025\n",
       "         201403 -0.000389  0.002211  0.000163\n",
       "         201404  0.001859  0.000772  0.002086\n",
       "         201405  0.000050 -0.002153  0.000318"
      ]
     },
     "execution_count": 9,
     "metadata": {},
     "output_type": "execute_result"
    }
   ],
   "source": [
    "currs.set_index(['currency', 'month', 'config name' ]).unstack()"
   ]
  },
  {
   "cell_type": "code",
   "execution_count": 11,
   "metadata": {
    "scrolled": true
   },
   "outputs": [],
   "source": [
    "def plot_month(month, title=\"\"):\n",
    "    ax = plt.plot(month['ga'], label='ga')\n",
    "    ax = plt.plot(month['pso'], label='pso')\n",
    "    ax = plt.plot(month['csfla'], label='csfla')\n",
    "    plt.legend()\n",
    "    plt.title(title)"
   ]
  },
  {
   "cell_type": "markdown",
   "metadata": {},
   "source": [
    "# Seasonal fitness \n",
    "The following plots represent each algorithm's average performance on each currency pair for each month:"
   ]
  },
  {
   "cell_type": "markdown",
   "metadata": {},
   "source": [
    "### September"
   ]
  },
  {
   "cell_type": "code",
   "execution_count": 12,
   "metadata": {},
   "outputs": [
    {
     "data": {
      "image/png": "[encoded data removed]",
      "text/plain": [
       "<Figure size 432x288 with 1 Axes>"
      ]
     },
     "metadata": {},
     "output_type": "display_data"
    }
   ],
   "source": [
    "plot_month(currs.set_index(['month', 'currency', 'config name' ]).unstack().loc['201309']['value'])"
   ]
  },
  {
   "cell_type": "markdown",
   "metadata": {},
   "source": [
    "### October"
   ]
  },
  {
   "cell_type": "code",
   "execution_count": 13,
   "metadata": {
    "scrolled": false
   },
   "outputs": [
    {
     "data": {
      "image/png": "[encoded data removed]",
      "text/plain": [
       "<Figure size 432x288 with 1 Axes>"
      ]
     },
     "metadata": {},
     "output_type": "display_data"
    }
   ],
   "source": [
    "plot_month(currs.set_index(['month', 'currency', 'config name' ]).unstack().loc['201310']['value'], 'Average fitness, 10/2013')"
   ]
  },
  {
   "cell_type": "markdown",
   "metadata": {},
   "source": [
    "### November"
   ]
  },
  {
   "cell_type": "code",
   "execution_count": 14,
   "metadata": {
    "scrolled": true
   },
   "outputs": [
    {
     "data": {
      "image/png": "[encoded data removed]",
      "text/plain": [
       "<Figure size 432x288 with 1 Axes>"
      ]
     },
     "metadata": {},
     "output_type": "display_data"
    }
   ],
   "source": [
    "plot_month(currs.set_index(['month', 'currency', 'config name' ]).unstack().loc['201311']['value'])"
   ]
  },
  {
   "cell_type": "markdown",
   "metadata": {},
   "source": [
    "### December"
   ]
  },
  {
   "cell_type": "code",
   "execution_count": 15,
   "metadata": {
    "scrolled": true
   },
   "outputs": [
    {
     "data": {
      "image/png": "[encoded data removed]",
      "text/plain": [
       "<Figure size 432x288 with 1 Axes>"
      ]
     },
     "metadata": {},
     "output_type": "display_data"
    }
   ],
   "source": [
    "plot_month(currs.set_index(['month', 'currency', 'config name' ]).unstack().loc['201312']['value'])"
   ]
  },
  {
   "cell_type": "markdown",
   "metadata": {},
   "source": [
    "### January"
   ]
  },
  {
   "cell_type": "code",
   "execution_count": 16,
   "metadata": {
    "scrolled": true
   },
   "outputs": [
    {
     "data": {
      "image/png": "[encoded data removed]",
      "text/plain": [
       "<Figure size 432x288 with 1 Axes>"
      ]
     },
     "metadata": {},
     "output_type": "display_data"
    }
   ],
   "source": [
    "plot_month(currs.set_index(['month', 'currency', 'config name' ]).unstack().loc['201401']['value'], 'Average fitness, 01/2014')"
   ]
  },
  {
   "cell_type": "markdown",
   "metadata": {},
   "source": [
    "### February"
   ]
  },
  {
   "cell_type": "code",
   "execution_count": 17,
   "metadata": {},
   "outputs": [
    {
     "data": {
      "image/png": "[encoded data removed]",
      "text/plain": [
       "<Figure size 432x288 with 1 Axes>"
      ]
     },
     "metadata": {},
     "output_type": "display_data"
    }
   ],
   "source": [
    "plot_month(currs.set_index(['month', 'currency', 'config name' ]).unstack().loc['201402']['value'])"
   ]
  },
  {
   "cell_type": "markdown",
   "metadata": {},
   "source": [
    "### March"
   ]
  },
  {
   "cell_type": "code",
   "execution_count": 18,
   "metadata": {
    "scrolled": true
   },
   "outputs": [
    {
     "data": {
      "image/png": "[encoded data removed]",
      "text/plain": [
       "<Figure size 432x288 with 1 Axes>"
      ]
     },
     "metadata": {},
     "output_type": "display_data"
    }
   ],
   "source": [
    "plot_month(currs.set_index(['month', 'currency', 'config name' ]).unstack().loc['201403']['value'])"
   ]
  },
  {
   "cell_type": "markdown",
   "metadata": {},
   "source": [
    "### April"
   ]
  },
  {
   "cell_type": "code",
   "execution_count": 19,
   "metadata": {
    "scrolled": true
   },
   "outputs": [
    {
     "data": {
      "image/png": "[encoded data removed]",
      "text/plain": [
       "<Figure size 432x288 with 1 Axes>"
      ]
     },
     "metadata": {},
     "output_type": "display_data"
    }
   ],
   "source": [
    "plot_month(currs.set_index(['month', 'currency', 'config name' ]).unstack().loc['201404']['value'])"
   ]
  },
  {
   "cell_type": "markdown",
   "metadata": {},
   "source": [
    "### May"
   ]
  },
  {
   "cell_type": "code",
   "execution_count": 20,
   "metadata": {
    "scrolled": false
   },
   "outputs": [
    {
     "data": {
      "image/png": "[encoded data removed]",
      "text/plain": [
       "<Figure size 432x288 with 1 Axes>"
      ]
     },
     "metadata": {},
     "output_type": "display_data"
    }
   ],
   "source": [
    "plot_month(currs.set_index(['month', 'currency', 'config name' ]).unstack().loc['201405']['value'])"
   ]
  },
  {
   "cell_type": "markdown",
   "metadata": {},
   "source": [
    "Some interesting points can be seen in these results:\n",
    "\n",
    "PSO and CSFLA seem to have very correlated results. This is strange considering that they are two very different algorithms. \n",
    "\n",
    "However this is good because it can __complement the DC algorithm on some months.__\n",
    "\n",
    "It looks like if for some months, the PSO/CSFLA and GA are inversely correlated (eg 201405, 201312, 201310). This is often a good thing if one wants to do ensembling to __get the best out of both algorithms__\n",
    "\n",
    "\n",
    "We can also see that __PSO/CSFLA tend to be less variant__ in some months (eg 201309, 201310, 201311, 201401 ,201403) across currencies."
   ]
  },
  {
   "cell_type": "markdown",
   "metadata": {},
   "source": [
    "# Average Fitness value per currency"
   ]
  },
  {
   "cell_type": "code",
   "execution_count": 21,
   "metadata": {},
   "outputs": [
    {
     "data": {
      "text/html": [
       "<div>\n",
       "<style scoped>\n",
       "    .dataframe tbody tr th:only-of-type {\n",
       "        vertical-align: middle;\n",
       "    }\n",
       "\n",
       "    .dataframe tbody tr th {\n",
       "        vertical-align: top;\n",
       "    }\n",
       "\n",
       "    .dataframe thead th {\n",
       "        text-align: right;\n",
       "    }\n",
       "</style>\n",
       "<table border=\"1\" class=\"dataframe\">\n",
       "  <thead>\n",
       "    <tr style=\"text-align: right;\">\n",
       "      <th></th>\n",
       "      <th></th>\n",
       "      <th>value</th>\n",
       "    </tr>\n",
       "    <tr>\n",
       "      <th>currency</th>\n",
       "      <th>name</th>\n",
       "      <th></th>\n",
       "    </tr>\n",
       "  </thead>\n",
       "  <tbody>\n",
       "    <tr>\n",
       "      <th rowspan=\"3\" valign=\"top\">EUR_GBP</th>\n",
       "      <th>ga</th>\n",
       "      <td>-0.000700</td>\n",
       "    </tr>\n",
       "    <tr>\n",
       "      <th>pso</th>\n",
       "      <td>-0.000184</td>\n",
       "    </tr>\n",
       "    <tr>\n",
       "      <th>csfla</th>\n",
       "      <td>-0.000411</td>\n",
       "    </tr>\n",
       "    <tr>\n",
       "      <th rowspan=\"3\" valign=\"top\">GBP_CHF</th>\n",
       "      <th>ga</th>\n",
       "      <td>0.000121</td>\n",
       "    </tr>\n",
       "    <tr>\n",
       "      <th>pso</th>\n",
       "      <td>-0.000037</td>\n",
       "    </tr>\n",
       "    <tr>\n",
       "      <th>csfla</th>\n",
       "      <td>-0.000025</td>\n",
       "    </tr>\n",
       "    <tr>\n",
       "      <th rowspan=\"3\" valign=\"top\">GBP_USD</th>\n",
       "      <th>ga</th>\n",
       "      <td>-0.000422</td>\n",
       "    </tr>\n",
       "    <tr>\n",
       "      <th>pso</th>\n",
       "      <td>0.000748</td>\n",
       "    </tr>\n",
       "    <tr>\n",
       "      <th>csfla</th>\n",
       "      <td>0.000559</td>\n",
       "    </tr>\n",
       "    <tr>\n",
       "      <th rowspan=\"3\" valign=\"top\">EUR_USD</th>\n",
       "      <th>ga</th>\n",
       "      <td>-0.003094</td>\n",
       "    </tr>\n",
       "    <tr>\n",
       "      <th>pso</th>\n",
       "      <td>-0.000084</td>\n",
       "    </tr>\n",
       "    <tr>\n",
       "      <th>csfla</th>\n",
       "      <td>-0.000250</td>\n",
       "    </tr>\n",
       "  </tbody>\n",
       "</table>\n",
       "</div>"
      ],
      "text/plain": [
       "                   value\n",
       "currency name           \n",
       "EUR_GBP  ga    -0.000700\n",
       "         pso   -0.000184\n",
       "         csfla -0.000411\n",
       "GBP_CHF  ga     0.000121\n",
       "         pso   -0.000037\n",
       "         csfla -0.000025\n",
       "GBP_USD  ga    -0.000422\n",
       "         pso    0.000748\n",
       "         csfla  0.000559\n",
       "EUR_USD  ga    -0.003094\n",
       "         pso   -0.000084\n",
       "         csfla -0.000250"
      ]
     },
     "execution_count": 21,
     "metadata": {},
     "output_type": "execute_result"
    }
   ],
   "source": [
    "mean_fitness_by_currency = pd.concat(pd.DataFrame({\n",
    "        'name': cfg,\n",
    "        'currency': curr,\n",
    "        'value': currs.loc[(currs['currency'] == curr) & (currs['config name'] == cfg) ]['value'].mean()}\n",
    "        for cfg in currs['config name'].unique())\n",
    "        for curr in currs['currency'].unique()).set_index(['currency', 'name'])\n",
    "mean_fitness_by_currency"
   ]
  },
  {
   "cell_type": "code",
   "execution_count": 22,
   "metadata": {
    "scrolled": true
   },
   "outputs": [
    {
     "data": {
      "image/png": "[encoded data removed]",
      "text/plain": [
       "<Figure size 432x288 with 1 Axes>"
      ]
     },
     "metadata": {},
     "output_type": "display_data"
    }
   ],
   "source": [
    "ax = mean_fitness_by_currency.unstack().plot(kind='bar').set_ylabel(\"fitness\")"
   ]
  },
  {
   "cell_type": "markdown",
   "metadata": {},
   "source": [
    "What stands out for this graph, to me, is that the GA performs very poorly, in terms of average fitness, except for the GBP_CHF currency.\n",
    "\n",
    "We could thus seperate the GA to use it only on that strategy, or if we ensemble the algorithms, attribute more weight to the ga for that currency, and less on the other currencies."
   ]
  },
  {
   "cell_type": "code",
   "execution_count": 61,
   "metadata": {},
   "outputs": [
    {
     "data": {
      "text/plain": [
       "name\n",
       "csfla   -0.000032\n",
       "ga      -0.001024\n",
       "pso      0.000111\n",
       "Name: value, dtype: float64"
      ]
     },
     "execution_count": 61,
     "metadata": {},
     "output_type": "execute_result"
    }
   ],
   "source": [
    "mean_fitness_by_currency.groupby(['name'])['value'].mean()"
   ]
  },
  {
   "cell_type": "markdown",
   "metadata": {},
   "source": [
    "We can see that on average, only the PSO yields positive fitness, and the GA yields the lowest mean fitness, by far."
   ]
  },
  {
   "cell_type": "markdown",
   "metadata": {},
   "source": [
    "# Returns analysis"
   ]
  },
  {
   "cell_type": "code",
   "execution_count": 23,
   "metadata": {},
   "outputs": [],
   "source": [
    "rets = pd.concat(ga.loc[ga['currency'] == curr][['config name', 'month', 'ret', 'currency']] for curr in ga['currency'].unique())\n",
    "rets = rets.append(pd.concat(pso.loc[pso['currency'] == curr][['config name', 'month', 'ret', 'currency']] for curr in pso['currency'].unique()))\n",
    "rets = rets.append(pd.concat(csfla.loc[csfla['currency'] == curr][['config name', 'month', 'ret', 'currency']] for curr in csfla['currency'].unique()))"
   ]
  },
  {
   "cell_type": "code",
   "execution_count": 24,
   "metadata": {},
   "outputs": [
    {
     "data": {
      "text/html": [
       "<div>\n",
       "<style scoped>\n",
       "    .dataframe tbody tr th:only-of-type {\n",
       "        vertical-align: middle;\n",
       "    }\n",
       "\n",
       "    .dataframe tbody tr th {\n",
       "        vertical-align: top;\n",
       "    }\n",
       "\n",
       "    .dataframe thead th {\n",
       "        text-align: right;\n",
       "    }\n",
       "</style>\n",
       "<table border=\"1\" class=\"dataframe\">\n",
       "  <thead>\n",
       "    <tr style=\"text-align: right;\">\n",
       "      <th></th>\n",
       "      <th></th>\n",
       "      <th>return</th>\n",
       "    </tr>\n",
       "    <tr>\n",
       "      <th>currency</th>\n",
       "      <th>name</th>\n",
       "      <th></th>\n",
       "    </tr>\n",
       "  </thead>\n",
       "  <tbody>\n",
       "    <tr>\n",
       "      <th rowspan=\"3\" valign=\"top\">EUR_GBP</th>\n",
       "      <th>ga</th>\n",
       "      <td>-0.000510</td>\n",
       "    </tr>\n",
       "    <tr>\n",
       "      <th>pso</th>\n",
       "      <td>-0.000016</td>\n",
       "    </tr>\n",
       "    <tr>\n",
       "      <th>csfla</th>\n",
       "      <td>-0.000219</td>\n",
       "    </tr>\n",
       "    <tr>\n",
       "      <th rowspan=\"3\" valign=\"top\">GBP_CHF</th>\n",
       "      <th>ga</th>\n",
       "      <td>0.000352</td>\n",
       "    </tr>\n",
       "    <tr>\n",
       "      <th>pso</th>\n",
       "      <td>0.000100</td>\n",
       "    </tr>\n",
       "    <tr>\n",
       "      <th>csfla</th>\n",
       "      <td>0.000109</td>\n",
       "    </tr>\n",
       "    <tr>\n",
       "      <th rowspan=\"3\" valign=\"top\">GBP_USD</th>\n",
       "      <th>ga</th>\n",
       "      <td>-0.000025</td>\n",
       "    </tr>\n",
       "    <tr>\n",
       "      <th>pso</th>\n",
       "      <td>0.000966</td>\n",
       "    </tr>\n",
       "    <tr>\n",
       "      <th>csfla</th>\n",
       "      <td>0.000809</td>\n",
       "    </tr>\n",
       "    <tr>\n",
       "      <th rowspan=\"3\" valign=\"top\">EUR_USD</th>\n",
       "      <th>ga</th>\n",
       "      <td>-0.002381</td>\n",
       "    </tr>\n",
       "    <tr>\n",
       "      <th>pso</th>\n",
       "      <td>0.000103</td>\n",
       "    </tr>\n",
       "    <tr>\n",
       "      <th>csfla</th>\n",
       "      <td>-0.000109</td>\n",
       "    </tr>\n",
       "  </tbody>\n",
       "</table>\n",
       "</div>"
      ],
      "text/plain": [
       "                  return\n",
       "currency name           \n",
       "EUR_GBP  ga    -0.000510\n",
       "         pso   -0.000016\n",
       "         csfla -0.000219\n",
       "GBP_CHF  ga     0.000352\n",
       "         pso    0.000100\n",
       "         csfla  0.000109\n",
       "GBP_USD  ga    -0.000025\n",
       "         pso    0.000966\n",
       "         csfla  0.000809\n",
       "EUR_USD  ga    -0.002381\n",
       "         pso    0.000103\n",
       "         csfla -0.000109"
      ]
     },
     "execution_count": 24,
     "metadata": {},
     "output_type": "execute_result"
    }
   ],
   "source": [
    "mean_return_by_currency = pd.concat(pd.DataFrame({\n",
    "        'name': cfg,\n",
    "        'currency': curr,\n",
    "        'return': rets.loc[(rets['currency'] == curr) & (rets['config name'] == cfg) ]['ret'].mean()}\n",
    "        for cfg in rets['config name'].unique())\n",
    "        for curr in rets['currency'].unique()).set_index(['currency', 'name'])\n",
    "mean_return_by_currency"
   ]
  },
  {
   "cell_type": "markdown",
   "metadata": {},
   "source": [
    "We can see that:\n",
    "    - PSO is nearly always profitable\n",
    "    - pso and csfla are remarkably performing on the GBP_USD\n",
    "    - GA is remarkably performing on the GBP_CHG pair"
   ]
  },
  {
   "cell_type": "code",
   "execution_count": 25,
   "metadata": {},
   "outputs": [
    {
     "data": {
      "text/plain": [
       "name\n",
       "csfla    0.000589\n",
       "ga      -0.002564\n",
       "pso      0.001153\n",
       "Name: return, dtype: float64"
      ]
     },
     "execution_count": 25,
     "metadata": {},
     "output_type": "execute_result"
    }
   ],
   "source": [
    "mean_return_by_currency.groupby(['name'])['return'].sum()"
   ]
  },
  {
   "cell_type": "code",
   "execution_count": 26,
   "metadata": {},
   "outputs": [
    {
     "data": {
      "text/plain": [
       "name\n",
       "csfla    0.000147\n",
       "ga      -0.000641\n",
       "pso      0.000288\n",
       "Name: return, dtype: float64"
      ]
     },
     "execution_count": 26,
     "metadata": {},
     "output_type": "execute_result"
    }
   ],
   "source": [
    "mean_return_by_currency.groupby(['name'])['return'].mean()"
   ]
  },
  {
   "cell_type": "code",
   "execution_count": 27,
   "metadata": {
    "scrolled": false
   },
   "outputs": [
    {
     "data": {
      "text/plain": [
       "Text(0,0.5,'return')"
      ]
     },
     "execution_count": 27,
     "metadata": {},
     "output_type": "execute_result"
    },
    {
     "data": {
      "image/png": "[encoded data removed]",
      "text/plain": [
       "<Figure size 432x288 with 1 Axes>"
      ]
     },
     "metadata": {},
     "output_type": "display_data"
    }
   ],
   "source": [
    "ax = mean_return_by_currency.unstack().plot(kind='bar')\n",
    "ax.set_ylabel(\"return\")"
   ]
  },
  {
   "cell_type": "markdown",
   "metadata": {},
   "source": [
    "Here my analysis is the same as for the fitness.\n",
    "However, we can see additionnaly that:\n",
    "    - PSO is the best performing on average accross all currencies\n",
    "    - PSO has very high average returns on the GBP_USD pair\n",
    "    - GA has very low return on the EUR_USD pair\n",
    "    - GA outperforms pso/csfla only on the GBP_CHF pair"
   ]
  },
  {
   "cell_type": "markdown",
   "metadata": {},
   "source": [
    "# MDD analysis"
   ]
  },
  {
   "cell_type": "code",
   "execution_count": 28,
   "metadata": {},
   "outputs": [],
   "source": [
    "mdds = pd.concat(ga.loc[ga['currency'] == curr][['config name', 'month', 'mdd', 'currency']] for curr in ga['currency'].unique())\n",
    "mdds = mdds.append(pd.concat(pso.loc[pso['currency'] == curr][['config name', 'month', 'mdd', 'currency']] for curr in pso['currency'].unique()))\n",
    "mdds = mdds.append(pd.concat(csfla.loc[csfla['currency'] == curr][['config name', 'month', 'mdd', 'currency']] for curr in csfla['currency'].unique()))"
   ]
  },
  {
   "cell_type": "code",
   "execution_count": 29,
   "metadata": {},
   "outputs": [
    {
     "data": {
      "text/html": [
       "<div>\n",
       "<style scoped>\n",
       "    .dataframe tbody tr th:only-of-type {\n",
       "        vertical-align: middle;\n",
       "    }\n",
       "\n",
       "    .dataframe tbody tr th {\n",
       "        vertical-align: top;\n",
       "    }\n",
       "\n",
       "    .dataframe thead th {\n",
       "        text-align: right;\n",
       "    }\n",
       "</style>\n",
       "<table border=\"1\" class=\"dataframe\">\n",
       "  <thead>\n",
       "    <tr style=\"text-align: right;\">\n",
       "      <th></th>\n",
       "      <th></th>\n",
       "      <th>mdd</th>\n",
       "    </tr>\n",
       "    <tr>\n",
       "      <th>currency</th>\n",
       "      <th>name</th>\n",
       "      <th></th>\n",
       "    </tr>\n",
       "  </thead>\n",
       "  <tbody>\n",
       "    <tr>\n",
       "      <th rowspan=\"3\" valign=\"top\">EUR_GBP</th>\n",
       "      <th>ga</th>\n",
       "      <td>0.000953</td>\n",
       "    </tr>\n",
       "    <tr>\n",
       "      <th>pso</th>\n",
       "      <td>0.000843</td>\n",
       "    </tr>\n",
       "    <tr>\n",
       "      <th>csfla</th>\n",
       "      <td>0.000961</td>\n",
       "    </tr>\n",
       "    <tr>\n",
       "      <th rowspan=\"3\" valign=\"top\">GBP_CHF</th>\n",
       "      <th>ga</th>\n",
       "      <td>0.001157</td>\n",
       "    </tr>\n",
       "    <tr>\n",
       "      <th>pso</th>\n",
       "      <td>0.000681</td>\n",
       "    </tr>\n",
       "    <tr>\n",
       "      <th>csfla</th>\n",
       "      <td>0.000670</td>\n",
       "    </tr>\n",
       "    <tr>\n",
       "      <th rowspan=\"3\" valign=\"top\">GBP_USD</th>\n",
       "      <th>ga</th>\n",
       "      <td>0.001986</td>\n",
       "    </tr>\n",
       "    <tr>\n",
       "      <th>pso</th>\n",
       "      <td>0.001093</td>\n",
       "    </tr>\n",
       "    <tr>\n",
       "      <th>csfla</th>\n",
       "      <td>0.001248</td>\n",
       "    </tr>\n",
       "    <tr>\n",
       "      <th rowspan=\"3\" valign=\"top\">EUR_USD</th>\n",
       "      <th>ga</th>\n",
       "      <td>0.003568</td>\n",
       "    </tr>\n",
       "    <tr>\n",
       "      <th>pso</th>\n",
       "      <td>0.000936</td>\n",
       "    </tr>\n",
       "    <tr>\n",
       "      <th>csfla</th>\n",
       "      <td>0.000702</td>\n",
       "    </tr>\n",
       "  </tbody>\n",
       "</table>\n",
       "</div>"
      ],
      "text/plain": [
       "                     mdd\n",
       "currency name           \n",
       "EUR_GBP  ga     0.000953\n",
       "         pso    0.000843\n",
       "         csfla  0.000961\n",
       "GBP_CHF  ga     0.001157\n",
       "         pso    0.000681\n",
       "         csfla  0.000670\n",
       "GBP_USD  ga     0.001986\n",
       "         pso    0.001093\n",
       "         csfla  0.001248\n",
       "EUR_USD  ga     0.003568\n",
       "         pso    0.000936\n",
       "         csfla  0.000702"
      ]
     },
     "execution_count": 29,
     "metadata": {},
     "output_type": "execute_result"
    }
   ],
   "source": [
    "mean_mdd_by_currency = pd.concat(pd.DataFrame({\n",
    "        'name': cfg,\n",
    "        'currency': curr,\n",
    "        'mdd': mdds.loc[(mdds['currency'] == curr) & (mdds['config name'] == cfg) ]['mdd'].mean()}\n",
    "        for cfg in mdds['config name'].unique())\n",
    "        for curr in mdds['currency'].unique()).set_index(['currency', 'name'])\n",
    "mean_mdd_by_currency"
   ]
  },
  {
   "cell_type": "code",
   "execution_count": 30,
   "metadata": {
    "scrolled": true
   },
   "outputs": [
    {
     "data": {
      "text/html": [
       "<div>\n",
       "<style scoped>\n",
       "    .dataframe tbody tr th:only-of-type {\n",
       "        vertical-align: middle;\n",
       "    }\n",
       "\n",
       "    .dataframe tbody tr th {\n",
       "        vertical-align: top;\n",
       "    }\n",
       "\n",
       "    .dataframe thead th {\n",
       "        text-align: right;\n",
       "    }\n",
       "</style>\n",
       "<table border=\"1\" class=\"dataframe\">\n",
       "  <thead>\n",
       "    <tr style=\"text-align: right;\">\n",
       "      <th></th>\n",
       "      <th>csfla</th>\n",
       "      <th>pso</th>\n",
       "      <th>ga</th>\n",
       "    </tr>\n",
       "  </thead>\n",
       "  <tbody>\n",
       "    <tr>\n",
       "      <th>mean mdd</th>\n",
       "      <td>0.000895</td>\n",
       "      <td>0.000888</td>\n",
       "      <td>0.001916</td>\n",
       "    </tr>\n",
       "  </tbody>\n",
       "</table>\n",
       "</div>"
      ],
      "text/plain": [
       "             csfla       pso        ga\n",
       "mean mdd  0.000895  0.000888  0.001916"
      ]
     },
     "execution_count": 30,
     "metadata": {},
     "output_type": "execute_result"
    }
   ],
   "source": [
    "pd.DataFrame({\n",
    "            'csfla': mdds.groupby(['config name'])['mdd'].mean()['csfla'],\n",
    "            'pso': mdds.groupby(['config name'])['mdd'].mean()['pso'],\n",
    "            'ga': mdds.groupby(['config name'])['mdd'].mean()['ga']},\n",
    "            index=['mean mdd'])"
   ]
  },
  {
   "cell_type": "markdown",
   "metadata": {},
   "source": [
    "We can see that on average, the PSO and CSFLA produce __half__ as much MDD as the GA. \n",
    "\n",
    "This means that we can clearly say that the __PSO and CSFLA produce much less risky strategies that the GA.__"
   ]
  },
  {
   "cell_type": "markdown",
   "metadata": {},
   "source": [
    "# Seasonal MDD"
   ]
  },
  {
   "cell_type": "code",
   "execution_count": 31,
   "metadata": {
    "scrolled": false
   },
   "outputs": [
    {
     "data": {
      "image/png": "[encoded data removed]",
      "text/plain": [
       "<Figure size 432x288 with 1 Axes>"
      ]
     },
     "metadata": {},
     "output_type": "display_data"
    }
   ],
   "source": [
    "plot_month(mdds.set_index(['month', 'currency', 'config name' ]).unstack().loc['201311']['mdd'])"
   ]
  },
  {
   "cell_type": "code",
   "execution_count": 32,
   "metadata": {},
   "outputs": [
    {
     "data": {
      "image/png": "[encoded data removed]",
      "text/plain": [
       "<Figure size 432x288 with 1 Axes>"
      ]
     },
     "metadata": {},
     "output_type": "display_data"
    }
   ],
   "source": [
    "plot_month(currs.set_index(['month', 'currency', 'config name' ]).unstack().loc['201311']['value'])"
   ]
  },
  {
   "cell_type": "code",
   "execution_count": 58,
   "metadata": {},
   "outputs": [
    {
     "data": {
      "text/plain": [
       "name\n",
       "csfla    0.000589\n",
       "ga      -0.002564\n",
       "pso      0.001153\n",
       "Name: return, dtype: float64"
      ]
     },
     "execution_count": 58,
     "metadata": {},
     "output_type": "execute_result"
    }
   ],
   "source": [
    "means = mean_mdd_by_currency.join(mean_return_by_currency.join(mean_fitness_by_currency))\n",
    "# Sum of meaned returns\n",
    "means.groupby(['name'])['return'].sum()"
   ]
  },
  {
   "cell_type": "code",
   "execution_count": 55,
   "metadata": {},
   "outputs": [
    {
     "data": {
      "text/html": [
       "<div>\n",
       "<style scoped>\n",
       "    .dataframe tbody tr th:only-of-type {\n",
       "        vertical-align: middle;\n",
       "    }\n",
       "\n",
       "    .dataframe tbody tr th {\n",
       "        vertical-align: top;\n",
       "    }\n",
       "\n",
       "    .dataframe thead th {\n",
       "        text-align: right;\n",
       "    }\n",
       "</style>\n",
       "<table border=\"1\" class=\"dataframe\">\n",
       "  <thead>\n",
       "    <tr style=\"text-align: right;\">\n",
       "      <th></th>\n",
       "      <th>mdd</th>\n",
       "      <th>return</th>\n",
       "      <th>value</th>\n",
       "    </tr>\n",
       "    <tr>\n",
       "      <th>name</th>\n",
       "      <th></th>\n",
       "      <th></th>\n",
       "      <th></th>\n",
       "    </tr>\n",
       "  </thead>\n",
       "  <tbody>\n",
       "    <tr>\n",
       "      <th>csfla</th>\n",
       "      <td>0.001248</td>\n",
       "      <td>0.000809</td>\n",
       "      <td>0.000559</td>\n",
       "    </tr>\n",
       "    <tr>\n",
       "      <th>ga</th>\n",
       "      <td>0.003568</td>\n",
       "      <td>0.000352</td>\n",
       "      <td>0.000121</td>\n",
       "    </tr>\n",
       "    <tr>\n",
       "      <th>pso</th>\n",
       "      <td>0.001093</td>\n",
       "      <td>0.000966</td>\n",
       "      <td>0.000748</td>\n",
       "    </tr>\n",
       "  </tbody>\n",
       "</table>\n",
       "</div>"
      ],
      "text/plain": [
       "            mdd    return     value\n",
       "name                               \n",
       "csfla  0.001248  0.000809  0.000559\n",
       "ga     0.003568  0.000352  0.000121\n",
       "pso    0.001093  0.000966  0.000748"
      ]
     },
     "execution_count": 55,
     "metadata": {},
     "output_type": "execute_result"
    }
   ],
   "source": [
    "means.groupby(['name']).max()"
   ]
  },
  {
   "cell_type": "markdown",
   "metadata": {},
   "source": [
    "Here we can see that \n",
    "    - PSO produces the highest return out of all currency pairs (on the GPB_USD pair)\n",
    "    - the GA produces the lowest max return, and the highest max MDD"
   ]
  },
  {
   "cell_type": "markdown",
   "metadata": {},
   "source": [
    "## Export data for friedman test\n"
   ]
  },
  {
   "cell_type": "code",
   "execution_count": 5,
   "metadata": {},
   "outputs": [],
   "source": [
    "all_data = pd.concat([ga, pso, csfla], sort=False)\n",
    "csv = all_data.reset_index().pivot_table(index='data file', columns='config name', values='value')\n",
    "csv.to_csv('../tests/friedman_fitness_test_data.csv', sep=',')"
   ]
  },
  {
   "cell_type": "code",
   "execution_count": 7,
   "metadata": {},
   "outputs": [],
   "source": [
    "all_data = pd.concat([ga, pso, csfla], sort=False)\n",
    "csv = all_data.reset_index().pivot_table(index='data file', columns='config name', values='ret')\n",
    "csv.to_csv('../tests/friedman_return_test_data.csv', sep=',')"
   ]
  },
  {
   "cell_type": "code",
   "execution_count": 6,
   "metadata": {},
   "outputs": [],
   "source": [
    "all_data = pd.concat([ga, pso, csfla], sort=False)\n",
    "csv = all_data.reset_index().pivot_table(index='data file', columns='config name', values='mdd')\n",
    "csv.to_csv('../tests/friedman_mdd_test_data.csv', sep=',')"
   ]
  },
  {
   "cell_type": "markdown",
   "metadata": {},
   "source": [
    "# RECAP\n",
    "\n",
    "Some overall performance indicators:\n",
    "### Overall return per strategy"
   ]
  },
  {
   "cell_type": "code",
   "execution_count": 8,
   "metadata": {
    "scrolled": true
   },
   "outputs": [
    {
     "data": {
      "text/html": [
       "<div>\n",
       "<style scoped>\n",
       "    .dataframe tbody tr th:only-of-type {\n",
       "        vertical-align: middle;\n",
       "    }\n",
       "\n",
       "    .dataframe tbody tr th {\n",
       "        vertical-align: top;\n",
       "    }\n",
       "\n",
       "    .dataframe thead th {\n",
       "        text-align: right;\n",
       "    }\n",
       "</style>\n",
       "<table border=\"1\" class=\"dataframe\">\n",
       "  <thead>\n",
       "    <tr style=\"text-align: right;\">\n",
       "      <th></th>\n",
       "      <th>0</th>\n",
       "    </tr>\n",
       "    <tr>\n",
       "      <th>config name</th>\n",
       "      <th></th>\n",
       "    </tr>\n",
       "  </thead>\n",
       "  <tbody>\n",
       "    <tr>\n",
       "      <th>csfla</th>\n",
       "      <td>0.005303</td>\n",
       "    </tr>\n",
       "    <tr>\n",
       "      <th>ga</th>\n",
       "      <td>-0.023077</td>\n",
       "    </tr>\n",
       "    <tr>\n",
       "      <th>pso</th>\n",
       "      <td>0.010381</td>\n",
       "    </tr>\n",
       "  </tbody>\n",
       "</table>\n",
       "</div>"
      ],
      "text/plain": [
       "                    0\n",
       "config name          \n",
       "csfla        0.005303\n",
       "ga          -0.023077\n",
       "pso          0.010381"
      ]
     },
     "execution_count": 8,
     "metadata": {},
     "output_type": "execute_result"
    }
   ],
   "source": [
    "pd.DataFrame(all_data.reset_index().pivot_table(index='data file', columns='config name', values='ret').sum())"
   ]
  },
  {
   "cell_type": "markdown",
   "metadata": {},
   "source": [
    "We can see that over the 4 currency pairs:\n",
    "    - the ga yields negative returns\n",
    "    - the CSFLA yields positive returns\n",
    "    - the PSO yields the most returns"
   ]
  },
  {
   "cell_type": "markdown",
   "metadata": {},
   "source": [
    "### Average MDD per strategy"
   ]
  },
  {
   "cell_type": "code",
   "execution_count": 9,
   "metadata": {
    "scrolled": true
   },
   "outputs": [
    {
     "data": {
      "text/html": [
       "<div>\n",
       "<style scoped>\n",
       "    .dataframe tbody tr th:only-of-type {\n",
       "        vertical-align: middle;\n",
       "    }\n",
       "\n",
       "    .dataframe tbody tr th {\n",
       "        vertical-align: top;\n",
       "    }\n",
       "\n",
       "    .dataframe thead th {\n",
       "        text-align: right;\n",
       "    }\n",
       "</style>\n",
       "<table border=\"1\" class=\"dataframe\">\n",
       "  <thead>\n",
       "    <tr style=\"text-align: right;\">\n",
       "      <th></th>\n",
       "      <th>0</th>\n",
       "    </tr>\n",
       "    <tr>\n",
       "      <th>config name</th>\n",
       "      <th></th>\n",
       "    </tr>\n",
       "  </thead>\n",
       "  <tbody>\n",
       "    <tr>\n",
       "      <th>csfla</th>\n",
       "      <td>0.000895</td>\n",
       "    </tr>\n",
       "    <tr>\n",
       "      <th>ga</th>\n",
       "      <td>0.001916</td>\n",
       "    </tr>\n",
       "    <tr>\n",
       "      <th>pso</th>\n",
       "      <td>0.000888</td>\n",
       "    </tr>\n",
       "  </tbody>\n",
       "</table>\n",
       "</div>"
      ],
      "text/plain": [
       "                    0\n",
       "config name          \n",
       "csfla        0.000895\n",
       "ga           0.001916\n",
       "pso          0.000888"
      ]
     },
     "execution_count": 9,
     "metadata": {},
     "output_type": "execute_result"
    }
   ],
   "source": [
    "pd.DataFrame(all_data.reset_index().pivot_table(index='data file', columns='config name', values='mdd').mean())"
   ]
  },
  {
   "cell_type": "markdown",
   "metadata": {},
   "source": [
    "We can see that over the 4 currency pairs:\n",
    "    - the GA yields the highest mean MDD\n",
    "    - the CSFLA and PSO yield nearly half as much MDD as the GA"
   ]
  },
  {
   "cell_type": "markdown",
   "metadata": {},
   "source": [
    "### Average variance in return per strategy"
   ]
  },
  {
   "cell_type": "code",
   "execution_count": 41,
   "metadata": {
    "scrolled": true
   },
   "outputs": [
    {
     "data": {
      "text/html": [
       "<div>\n",
       "<style scoped>\n",
       "    .dataframe tbody tr th:only-of-type {\n",
       "        vertical-align: middle;\n",
       "    }\n",
       "\n",
       "    .dataframe tbody tr th {\n",
       "        vertical-align: top;\n",
       "    }\n",
       "\n",
       "    .dataframe thead th {\n",
       "        text-align: right;\n",
       "    }\n",
       "</style>\n",
       "<table border=\"1\" class=\"dataframe\">\n",
       "  <thead>\n",
       "    <tr style=\"text-align: right;\">\n",
       "      <th></th>\n",
       "      <th>0</th>\n",
       "    </tr>\n",
       "    <tr>\n",
       "      <th>config name</th>\n",
       "      <th></th>\n",
       "    </tr>\n",
       "  </thead>\n",
       "  <tbody>\n",
       "    <tr>\n",
       "      <th>csfla</th>\n",
       "      <td>0.000002</td>\n",
       "    </tr>\n",
       "    <tr>\n",
       "      <th>ga</th>\n",
       "      <td>0.000018</td>\n",
       "    </tr>\n",
       "    <tr>\n",
       "      <th>pso</th>\n",
       "      <td>0.000003</td>\n",
       "    </tr>\n",
       "  </tbody>\n",
       "</table>\n",
       "</div>"
      ],
      "text/plain": [
       "                    0\n",
       "config name          \n",
       "csfla        0.000002\n",
       "ga           0.000018\n",
       "pso          0.000003"
      ]
     },
     "execution_count": 41,
     "metadata": {},
     "output_type": "execute_result"
    }
   ],
   "source": [
    "pd.DataFrame(all_data.reset_index().pivot_table(index='data file', columns='config name', values='ret').var())"
   ]
  },
  {
   "cell_type": "markdown",
   "metadata": {},
   "source": [
    "We can see that over the 4 currency pairs:\n",
    "    - the GA yields the most variant results by far\n",
    "    - the CSFLA and PSO yield consistant results"
   ]
  },
  {
   "cell_type": "markdown",
   "metadata": {},
   "source": [
    "# Conclusion\n",
    "\n",
    "My final interpretation of these results is that, \n",
    "\n",
    "### Considering that:\n",
    "    \n",
    "    In terms of Fitness value: \n",
    "        - The PSO is the only algorithm that yields positive mean fitness\n",
    "        - The PSO and CSFLA perform on average and in terms of fitness much higher than the GA\n",
    "        \n",
    "    In terms of Returns:\n",
    "        - PSO is the best performing on average accross all currencies\n",
    "        - PSO has very high average returns on the GBP_USD pair\n",
    "        - GA has very low return on the EUR_USD pair\n",
    "        - GA outperforms pso/csfla only on the GBP_CHF pair\n",
    "        \n",
    "    In terms of MDD:\n",
    "        - the CSFLA and PSO yield nearly half as much MDD as the GA\n",
    "    \n",
    "    In terms of variance:\n",
    "        - the GA yields much more variant results than the PSO and CSFLA\n",
    "        \n",
    "### I conclude that:\n",
    "\n",
    "\n",
    "On average , __the PSO is the most interesting algorithm to tune the trading strategy__:\n",
    "        - It yields the highest mean return and fitness\n",
    "        - It yields the less MDD\n",
    "\n",
    "__For the risk averse trader , the PSO is even more interesting__:\n",
    "        - It is low in variance in terms of results\n",
    "        - It yields positive returns on 3/4 currency pairs\n",
    "        - It returns near-zero returns on the remaining currency pair\n",
    "        - It yields the lowest amount of MDD\n",
    "        \n",
    "__The GA should be used on a single currency pair portfolio__ (GBP_CHF)\n",
    "\n",
    "__The PSO could be used with great returns on the GBP_USD currency pair__\n",
    "\n",
    "__A strategy combining the GA__ on the GBP_CHF pair, __and the PSO__ on the EUR_GBP, EUR_USD, GBP_USD __would be the most profitable__\n",
    "    \n",
    "\n",
    "__The CSFLA could serve as a reinforcing strategy for the PSO__ For example, if a decision proposed by the PSO is to be questioned, the decision of the CSFLA could be taken into consideration"
   ]
  },
  {
   "cell_type": "code",
   "execution_count": null,
   "metadata": {},
   "outputs": [],
   "source": []
  }
 ],
 "metadata": {
  "kernelspec": {
   "display_name": "Python 3",
   "language": "python",
   "name": "python3"
  },
  "language_info": {
   "codemirror_mode": {
    "name": "ipython",
    "version": 3
   },
   "file_extension": ".py",
   "mimetype": "text/x-python",
   "name": "python",
   "nbconvert_exporter": "python",
   "pygments_lexer": "ipython3",
   "version": "3.6.5"
  }
 },
 "nbformat": 4,
 "nbformat_minor": 2
}
